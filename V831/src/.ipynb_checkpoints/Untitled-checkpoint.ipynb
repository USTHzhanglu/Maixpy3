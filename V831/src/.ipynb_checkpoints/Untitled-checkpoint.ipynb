{
 "cells": [
  {
   "cell_type": "code",
   "execution_count": 1,
   "metadata": {},
   "outputs": [
    {
     "name": "stdout",
     "output_type": "stream",
     "text": [
      "uname_result(system='Linux', node='sipeed', release='4.9.118', version='#77 PREEMPT Wed Feb 3 11:06:36 UTC 2021', machine='armv7l', processor='')\n"
     ]
    },
    {
     "name": "stderr",
     "output_type": "stream",
     "text": [
      "Exception in thread Thread-7:\n",
      "Traceback (most recent call last):\n",
      "  File \"C:\\Users\\Lithromantic\\AppData\\Local\\Programs\\Python\\Python38\\lib\\threading.py\", line 932, in _bootstrap_inner\n",
      "    self.run()\n",
      "  File \"C:\\Users\\Lithromantic\\AppData\\Local\\Programs\\Python\\Python38\\lib\\site-packages\\rpyc_ikernel\\scheduler.py\", line 43, in run\n",
      "    self._recur()\n",
      "  File \"C:\\Users\\Lithromantic\\AppData\\Local\\Programs\\Python\\Python38\\lib\\site-packages\\rpyc_ikernel\\scheduler.py\", line 52, in _recur\n",
      "    self._execute()\n",
      "  File \"C:\\Users\\Lithromantic\\AppData\\Local\\Programs\\Python\\Python38\\lib\\site-packages\\rpyc_ikernel\\scheduler.py\", line 56, in _execute\n",
      "    self._fn(self.args, self.kwargs)\n",
      "  File \"C:\\Users\\Lithromantic\\AppData\\Local\\Programs\\Python\\Python38\\lib\\site-packages\\rpyc_ikernel\\scheduler.py\", line 59, in _fn\n",
      "    return_value = self.fn(*args, **kwargs)\n",
      "  File \"C:\\Users\\Lithromantic\\AppData\\Local\\Programs\\Python\\Python38\\lib\\site-packages\\rpyc_ikernel\\kernel.py\", line 177, in _update\n",
      "    self._update_display()\n",
      "  File \"C:\\Users\\Lithromantic\\AppData\\Local\\Programs\\Python\\Python38\\lib\\site-packages\\rpyc_ikernel\\kernel.py\", line 182, in _update_display\n",
      "    from .rtspc import Client\n",
      "  File \"C:\\Users\\Lithromantic\\AppData\\Local\\Programs\\Python\\Python38\\lib\\site-packages\\rpyc_ikernel\\rtspc.py\", line 5, in <module>\n",
      "    from PIL import Image\n",
      "ModuleNotFoundError: No module named 'PIL'\n"
     ]
    },
    {
     "name": "stdout",
     "output_type": "stream",
     "text": [
      "\r\n",
      "Traceback (most recent call last):\r\n",
      "  File \"<string>\", line unknown, in <module>\r\n",
      "Remote.KeyboardInterrupt\r\n",
      "\n"
     ]
    }
   ],
   "source": [
    "$connect(\"192.168.137.8\")\n",
    "import platform\n",
    "print(platform.uname())\n",
    "import time \n",
    "last_time = time.time()\n",
    "from maix import display, camera\n",
    "from PIL import Image, ImageDraw\n",
    "display.local_show(False)\n",
    "display.hook(clear_output=False)\n",
    "while True:\n",
    "    im = camera.capture()\n",
    "    if im:\n",
    "        draw = ImageDraw.Draw(im)\n",
    "        last_time = time.time()\n",
    "        draw.text((10, 10), str((1000 // (1000 * (time.time() - last_time)))), (255, 0, 0))\n",
    "        display.show(im)"
   ]
  },
  {
   "cell_type": "code",
   "execution_count": 1,
   "metadata": {
    "scrolled": true
   },
   "outputs": [
    {
     "name": "stdout",
     "output_type": "stream",
     "text": [
      "\r\n",
      "Traceback (most recent call last):\r\n",
      "  File \"<string>\", line unknown, in <module>\r\n",
      "Remote.KeyboardInterrupt\r\n",
      "\n"
     ]
    }
   ],
   "source": [
    "\n",
    "from maix import display, camera\n",
    "while True:\n",
    "    im = camera.capture()\n",
    "    if im:\n",
    "        display.show(im)"
   ]
  },
  {
   "cell_type": "code",
   "execution_count": 1,
   "metadata": {
    "scrolled": true
   },
   "outputs": [
    {
     "name": "stdout",
     "output_type": "stream",
     "text": [
      "\r\n",
      "Traceback (most recent call last):\r\n",
      "  File \"<string>\", line unknown, in <module>\r\n",
      "Remote.KeyboardInterrupt\r\n",
      "\n"
     ]
    }
   ],
   "source": []
  },
  {
   "cell_type": "code",
   "execution_count": null,
   "metadata": {},
   "outputs": [],
   "source": []
  }
 ],
 "metadata": {
  "kernelspec": {
   "display_name": "RPyc-Python",
   "language": "Python",
   "name": "rpyc"
  },
  "language_info": {
   "codemirror_mode": "python",
   "file_extension": ".py",
   "mimetype": "text/python",
   "name": "Python"
  }
 },
 "nbformat": 4,
 "nbformat_minor": 4
}
