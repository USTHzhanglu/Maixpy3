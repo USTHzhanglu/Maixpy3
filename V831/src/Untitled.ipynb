{
 "cells": [
  {
   "cell_type": "code",
   "execution_count": 1,
   "metadata": {},
   "outputs": [
    {
     "output_type": "stream",
     "name": "stdout",
     "text": [
      "[display] tips: os.environ(export) not _MAIX_WIDTH_ or _MAIX_HEIGHT_.\n"
     ]
    }
   ],
   "source": [
    "$connect(\"192.168.137.214\")"
   ]
  },
  {
   "cell_type": "code",
   "execution_count": null,
   "metadata": {},
   "outputs": [],
   "source": [
    "import platform\n",
    "print(platform.uname())\n",
    "import time \n",
    "last_time = time.time()\n",
    "from maix import display, camera\n",
    "from PIL import Image, ImageDraw\n",
    "display.local_show(False)\n",
    "display.hook(clear_output=True)\n",
    "while True:\n",
    "    im = camera.capture()\n",
    "    if im:\n",
    "        draw = ImageDraw.Draw(im)\n",
    "        last_time = time.time()\n",
    "        draw.text((10, 10), str((1000 // (1000 * (time.time() - last_time)))), (255, 0, 0))\n",
    "        display.show(im)"
   ]
  },
  {
   "cell_type": "code",
   "execution_count": null,
   "metadata": {
    "scrolled": true
   },
   "outputs": [],
   "source": [
    "\n",
    "from maix import display, camera\n",
    "im = camera.capture()\n",
    "if im:\n",
    "  print(im)"
   ]
  },
  {
   "cell_type": "code",
   "execution_count": null,
   "metadata": {
    "scrolled": true
   },
   "outputs": [],
   "source": [
    "import os\n",
    "print(os.listdir())"
   ]
  },
  {
   "cell_type": "code",
   "execution_count": 1,
   "metadata": {},
   "outputs": [
    {
     "output_type": "stream",
     "name": "stderr",
     "text": [
      "2021-04-30 13:09:41,458 - rpyc_ikernel - ERROR - [Errno 2] No such file or directory: 'cannot open GPIO device gpiochip2' -> None\n\n========= Remote Traceback (1) =========\nTraceback (most recent call last):\n  File \"/usr/lib/python3.8/site-packages/rpyc/core/protocol.py\", line 324, in _dispatch_request\n  File \"/usr/lib/python3.8/site-packages/rpyc/core/protocol.py\", line 592, in _handle_call\n  File \"/usr/lib/python3.8/site-packages/rpyc/core/service.py\", line 152, in execute\n  File \"<string>\", line 4, in <module>\n  File \"/usr/lib/python3.8/site-packages/gpiod/libgpiodcxx/__init__.py\", line 121, in __init__\n  File \"/usr/lib/python3.8/site-packages/gpiod/libgpiodcxx/__init__.py\", line 153, in open\nFileNotFoundError: [Errno 2] No such file or directory: 'cannot open GPIO device gpiochip2'\n\n"
     ]
    }
   ],
   "source": [
    "import time\n",
    "from maix import gpio\n",
    "PH_BASE = 224 # \"PH\"\n",
    "gpiochip1 = gpio.chip(\"gpiochip1\")\n",
    "led = gpiochip1.get_line((PH_BASE + 14)) # \"PH14\"\n",
    "config = gpio.line_request()\n",
    "config.request_type = gpio.line_request.DIRECTION_OUTPUT\n",
    "led.request(config)\n",
    "\n",
    "while led:\n",
    "    led.set_value(0)\n",
    "    time.sleep(0.1)\n",
    "    led.set_value(1)\n",
    "    time.sleep(0.1)"
   ]
  },
  {
   "cell_type": "code",
   "execution_count": 1,
   "metadata": {},
   "outputs": [
    {
     "output_type": "stream",
     "name": "stdout",
     "text": [
      "by-name\n",
      "cedar_dev\n",
      "console\n",
      "cpu_dma_latency\n",
      "disp\n",
      "fb0\n",
      "fb1\n",
      "fb2\n",
      "fb3\n",
      "fb4\n",
      "fb5\n",
      "fb6\n",
      "fb7\n",
      "full\n",
      "g2d\n",
      "gpiochip0\n",
      "gpiochip1\n",
      "i2c-1\n",
      "i2c-2\n",
      "input\n",
      "ion\n",
      "kmsg\n",
      "media0\n",
      "mem\n",
      "memory_bandwidth\n",
      "mmcblk0\n",
      "mmcblk0p1\n",
      "mmcblk0p2\n",
      "mmcblk0p3\n",
      "mmcblk0p4\n",
      "mmcblk0p5\n",
      "mmcblk0p6\n",
      "network_latency\n",
      "network_throughput\n",
      "null\n",
      "ptmx\n",
      "pts\n",
      "random\n",
      "rfkill\n",
      "root\n",
      "rtc0\n",
      "shm\n",
      "snd\n",
      "spidev1.0\n",
      "sunxi-reg\n",
      "sunxi-wlan\n",
      "sunxi_pwm0\n",
      "sunxi_soc_info\n",
      "tty\n",
      "tty0\n",
      "tty1\n",
      "tty10\n",
      "tty11\n",
      "tty12\n",
      "tty13\n",
      "tty14\n",
      "tty15\n",
      "tty16\n",
      "tty17\n",
      "tty18\n",
      "tty19\n",
      "tty2\n",
      "tty20\n",
      "tty21\n",
      "tty22\n",
      "tty23\n",
      "tty24\n",
      "tty25\n",
      "tty26\n",
      "tty27\n",
      "tty28\n",
      "tty29\n",
      "tty3\n",
      "tty30\n",
      "tty31\n",
      "tty32\n",
      "tty33\n",
      "tty34\n",
      "tty35\n",
      "tty36\n",
      "tty37\n",
      "tty38\n",
      "tty39\n",
      "tty4\n",
      "tty40\n",
      "tty41\n",
      "tty42\n",
      "tty43\n",
      "tty44\n",
      "tty45\n",
      "tty46\n",
      "tty47\n",
      "tty48\n",
      "tty49\n",
      "tty5\n",
      "tty50\n",
      "tty51\n",
      "tty52\n",
      "tty53\n",
      "tty54\n",
      "tty55\n",
      "tty56\n",
      "tty57\n",
      "tty58\n",
      "tty59\n",
      "tty6\n",
      "tty60\n",
      "tty61\n",
      "tty62\n",
      "tty63\n",
      "tty7\n",
      "tty8\n",
      "tty9\n",
      "ttyS0\n",
      "ttyS1\n",
      "urandom\n",
      "v4l-subdev0\n",
      "v4l-subdev1\n",
      "v4l-subdev10\n",
      "v4l-subdev11\n",
      "v4l-subdev12\n",
      "v4l-subdev13\n",
      "v4l-subdev2\n",
      "v4l-subdev3\n",
      "v4l-subdev4\n",
      "v4l-subdev5\n",
      "v4l-subdev6\n",
      "v4l-subdev7\n",
      "v4l-subdev8\n",
      "v4l-subdev9\n",
      "vcs\n",
      "vcs1\n",
      "vcsa\n",
      "vcsa1\n",
      "video0\n",
      "video1\n",
      "watchdog\n",
      "watchdog0\n",
      "zero\n",
      "\n"
     ]
    }
   ],
   "source": [
    "import os\n",
    "os.chdir(\"/dev\")\n",
    "print(os.popen(\"ls\").read())"
   ]
  },
  {
   "cell_type": "code",
   "execution_count": 1,
   "metadata": {},
   "outputs": [],
   "source": []
  },
  {
   "cell_type": "code",
   "execution_count": null,
   "metadata": {},
   "outputs": [],
   "source": []
  }
 ],
 "metadata": {
  "kernelspec": {
   "display_name": "RPyc-Python",
   "language": "Python",
   "name": "rpyc"
  }
 },
 "nbformat": 4,
 "nbformat_minor": 4
}